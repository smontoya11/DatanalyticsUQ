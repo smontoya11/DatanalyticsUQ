{
 "cells": [
  {
   "cell_type": "code",
   "execution_count": 1,
   "id": "17e37b1f",
   "metadata": {},
   "outputs": [],
   "source": [
    "#TALLER"
   ]
  },
  {
   "cell_type": "code",
   "execution_count": 2,
   "id": "ad7fa3ea",
   "metadata": {},
   "outputs": [],
   "source": [
    "import pandas as pd\n",
    "import numpy as np"
   ]
  },
  {
   "cell_type": "code",
   "execution_count": 3,
   "id": "ace01a98",
   "metadata": {},
   "outputs": [],
   "source": [
    "#PUNTO 1"
   ]
  },
  {
   "cell_type": "code",
   "execution_count": 4,
   "id": "e24f5a04",
   "metadata": {},
   "outputs": [],
   "source": [
    "#Importando tambien los datos de la GEIH 2025, directamente desde el repositorio del profesor\n",
    "df_cgsse = pd.read_csv(\"https://github.com/niconomist98/DataAnalyticsUQ/raw/refs/heads/main/Datos/GEIH2025/cgsse.CSV\"\n",
    "                       ,encoding=\"latin\", sep= \";\") \n",
    "df_ft = pd.read_csv(\"https://github.com/niconomist98/DataAnalyticsUQ/raw/refs/heads/main/Datos/GEIH2025/Fuerza%20de%20trabajo.CSV\"\n",
    "                       ,encoding=\"latin\", sep= \";\", low_memory=False) \n",
    "df_ocupados = pd.read_csv(\"https://github.com/niconomist98/DataAnalyticsUQ/raw/refs/heads/main/Datos/GEIH2025/Ocupados.CSV\"\n",
    "                       ,encoding=\"latin\", sep= \";\", low_memory=False) \n",
    "df_desocupados = pd.read_csv(\"https://github.com/niconomist98/DataAnalyticsUQ/raw/refs/heads/main/Datos/GEIH2025/No%20ocupados.CSV\"\n",
    "                       ,encoding=\"latin\", sep= \";\") "
   ]
  },
  {
   "cell_type": "code",
   "execution_count": 5,
   "id": "b031bb1c",
   "metadata": {},
   "outputs": [
    {
     "name": "stdout",
     "output_type": "stream",
     "text": [
      "Población total de colombia: 52045001\n"
     ]
    }
   ],
   "source": [
    "# 1. Poblacion total de colombia: \n",
    "ptc = df_cgsse[\"FEX_C18\"].sum()\n",
    "print('Población total de colombia:', int(ptc))"
   ]
  },
  {
   "cell_type": "code",
   "execution_count": 6,
   "id": "8baad05f",
   "metadata": {},
   "outputs": [
    {
     "name": "stdout",
     "output_type": "stream",
     "text": [
      "La poblacion total sin edad para trabajar es: 11391585\n",
      "La poblacion total con edad para trabjar es: 40653416\n"
     ]
    }
   ],
   "source": [
    "#Poblacion en edad de trabajar y en no edad de trabajar\n",
    "\n",
    "sin_edad_trabajar = df_cgsse[df_cgsse['P6040']<15]['FEX_C18'].sum()\n",
    "edad_trabajar = df_cgsse[df_cgsse['P6040']>=15]['FEX_C18']\n",
    "total_edad_trabajar = df_cgsse[df_cgsse['P6040']>=15]['FEX_C18'].sum()\n",
    "\n",
    "print('La poblacion total sin edad para trabajar es:',int(sin_edad_trabajar))\n",
    "print('La poblacion total con edad para trabjar es:',int(total_edad_trabajar))\n"
   ]
  },
  {
   "cell_type": "code",
   "execution_count": 7,
   "id": "51144f53",
   "metadata": {},
   "outputs": [
    {
     "name": "stdout",
     "output_type": "stream",
     "text": [
      "La poblacion economicamente activa es: 25974846\n"
     ]
    }
   ],
   "source": [
    "#Calculado ahora la poblacion economicamente activa\n",
    "pea = df_ft[df_ft['FT']==1]['FEX_C18'].sum()\n",
    "print('La poblacion economicamente activa es:',int(pea))"
   ]
  },
  {
   "cell_type": "code",
   "execution_count": 8,
   "id": "8a612606",
   "metadata": {},
   "outputs": [
    {
     "name": "stdout",
     "output_type": "stream",
     "text": [
      "La poblacion economicamente inactiva es: 14678569\n"
     ]
    }
   ],
   "source": [
    "#Calculo de Poblacion economicamente inactiva\n",
    "pei = df_ft[df_ft['FFT']==1]['FEX_C18'].sum()\n",
    "print('La poblacion economicamente inactiva es:',int(pei))\n"
   ]
  },
  {
   "cell_type": "code",
   "execution_count": 9,
   "id": "88d06d6e",
   "metadata": {},
   "outputs": [
    {
     "name": "stdout",
     "output_type": "stream",
     "text": [
      "La tasa de desempleo es: 65.06 %\n"
     ]
    }
   ],
   "source": [
    "# Tasa de desempleo\n",
    "desocupados = df_desocupados['FEX_C18'].sum()\n",
    "td = (desocupados / pea) * 100\n",
    "print('La tasa de desempleo es:', round(td, 2), '%')"
   ]
  },
  {
   "cell_type": "code",
   "execution_count": 10,
   "id": "da12e3bf",
   "metadata": {},
   "outputs": [
    {
     "name": "stdout",
     "output_type": "stream",
     "text": [
      "La cantidad de personas desempleadas es: 2221893\n",
      "La tasa de desempleo es:8.554020086155528 %\n"
     ]
    }
   ],
   "source": [
    "#Cantiadad de personas desempleadas\n",
    "D = df_desocupados[df_desocupados['DSI']==1]['FEX_C18'].sum()\n",
    "print('La cantidad de personas desempleadas es:', int(D))\n",
    "\n",
    "#Tasa de desempleados\n",
    "td = (D / pea)\n",
    "print(f'La tasa de desempleo es:{td*100} %')"
   ]
  },
  {
   "cell_type": "code",
   "execution_count": 12,
   "id": "e5c77fe4",
   "metadata": {},
   "outputs": [
    {
     "name": "stdout",
     "output_type": "stream",
     "text": [
      "La cantidad de personas ocupadas es: 23752952\n",
      "La poblacion en edad de trabajar es: 40653416\n",
      "La tasa de ocupados es: 58.43%\n"
     ]
    }
   ],
   "source": [
    "# Tasa de ocupados\n",
    "O = df_ocupados['FEX_C18'].sum()\n",
    "print('La cantidad de personas ocupadas es:', int(O))\n",
    "\n",
    "#poblacion en edad de trabajar\n",
    "pet = df_ft['FEX_C18'].sum()\n",
    "print('La poblacion en edad de trabajar es:', int(pet))\n",
    "\n",
    "#TASA DE OCUPADOS\n",
    "to = (O / pet) \n",
    "print(f'La tasa de ocupados es: {to:.2%}')"
   ]
  },
  {
   "cell_type": "code",
   "execution_count": null,
   "id": "668c4958",
   "metadata": {},
   "outputs": [],
   "source": [
    "#PUNTO 2"
   ]
  },
  {
   "cell_type": "code",
   "execution_count": 14,
   "id": "c1f91122",
   "metadata": {},
   "outputs": [
    {
     "name": "stdout",
     "output_type": "stream",
     "text": [
      "    DPTO     Sexo         TD\n",
      "0      5  Hombres   4.886691\n",
      "1      5  Mujeres   9.770415\n",
      "2      8  Hombres   6.301949\n",
      "3      8  Mujeres  10.232567\n",
      "4     11  Hombres   9.821256\n",
      "5     11  Mujeres   7.078481\n",
      "6     13  Hombres   4.791098\n",
      "7     13  Mujeres  12.028807\n",
      "8     15  Hombres   6.967972\n",
      "9     15  Mujeres   4.008697\n",
      "10    17  Hombres   5.583183\n",
      "11    17  Mujeres   7.677962\n",
      "12    18  Hombres   2.676220\n",
      "13    18  Mujeres  15.726909\n",
      "14    19  Hombres   3.390661\n",
      "15    19  Mujeres   5.146277\n",
      "16    20  Hombres   5.991357\n",
      "17    20  Mujeres  13.209651\n",
      "18    23  Hombres   5.832048\n",
      "19    23  Mujeres  19.837285\n"
     ]
    }
   ],
   "source": [
    "#Hacemos un merge para tener el sexo de los desocupados\n",
    "df_desocupados_gen = pd.merge(\n",
    "    df_desocupados[df_desocupados[\"DSI\"]==1], \n",
    "    df_cgsse[['DIRECTORIO','SECUENCIA_P','ORDEN','P3271']], \n",
    "    on=['DIRECTORIO','SECUENCIA_P','ORDEN'], \n",
    "    how='left')\n",
    "# Agrupamos por departamento y sexo\n",
    "desocupados_sexo = (df_desocupados_gen.groupby(['DPTO','P3271'])['FEX_C18'].sum().reset_index().rename(columns={'FEX_C18':'desocupados'}))\n",
    "\n",
    "# Ocupados también con sexo\n",
    "df_ocupados_gen = pd.merge(\n",
    "    df_ocupados, \n",
    "    df_cgsse[['DIRECTORIO','SECUENCIA_P','ORDEN','P3271']], \n",
    "    on=['DIRECTORIO','SECUENCIA_P','ORDEN'], \n",
    "    how='left')\n",
    "\n",
    "ocupados_sexo = (df_ocupados_gen.groupby(['DPTO','P3271'])['FEX_C18'].sum().reset_index().rename(columns={'FEX_C18':'ocupados'}))\n",
    "\n",
    "#Unimos ocupados y desocupados para calcular la PEA\n",
    "pea_sexo = pd.merge(ocupados_sexo, desocupados_sexo, on=['DPTO','P3271'], how='outer').fillna(0)\n",
    "pea_sexo['PEA'] = pea_sexo['ocupados'] + pea_sexo['desocupados']\n",
    "#Tasa de desempleo (TD)\n",
    "pea_sexo['TD'] = pea_sexo['desocupados'] / pea_sexo['PEA'] * 100\n",
    "\n",
    "#Reemplazamos sexo por etiquetas\n",
    "pea_sexo['Sexo'] = pea_sexo['P3271'].map({1:'Hombres', 2:'Mujeres'})\n",
    "# Hacemos el print\n",
    "print(pea_sexo[['DPTO','Sexo','TD']].head(20))"
   ]
  },
  {
   "cell_type": "code",
   "execution_count": 15,
   "id": "440b727b",
   "metadata": {},
   "outputs": [
    {
     "name": "stdout",
     "output_type": "stream",
     "text": [
      "Departamentos con MAYOR tasa de desempleo por sexo:\n",
      "    DPTO     Sexo         TD\n",
      "48    81  Hombres  18.057931\n",
      "49    81  Mujeres  31.660892\n",
      "\n",
      "Departamentos con MENOR tasa de desempleo por sexo:\n",
      "    DPTO     Sexo        TD\n",
      "56    91  Hombres  1.979606\n",
      "57    91  Mujeres  1.874288\n"
     ]
    }
   ],
   "source": [
    "# Mayor y menor Tasa de Desempleo dada por sexo\n",
    "td_max = pea_sexo.loc[pea_sexo.groupby(\"Sexo\")[\"TD\"].idxmax()]\n",
    "td_min = pea_sexo.loc[pea_sexo.groupby(\"Sexo\")[\"TD\"].idxmin()]\n",
    "\n",
    "print(\"Departamentos con MAYOR tasa de desempleo por sexo:\")\n",
    "print(td_max[['DPTO','Sexo','TD']])\n",
    "\n",
    "print(\"\\nDepartamentos con MENOR tasa de desempleo por sexo:\")\n",
    "print(td_min[['DPTO','Sexo','TD']])"
   ]
  },
  {
   "cell_type": "code",
   "execution_count": null,
   "id": "d6985a9f",
   "metadata": {},
   "outputs": [],
   "source": [
    "#PUNTO 3"
   ]
  },
  {
   "cell_type": "code",
   "execution_count": 17,
   "id": "fa89d40a",
   "metadata": {},
   "outputs": [
    {
     "name": "stdout",
     "output_type": "stream",
     "text": [
      "Hombres desempleados: 54096\n",
      "Mujeres desempleadas: 49509\n"
     ]
    }
   ],
   "source": [
    "# Hacer merge para traer el género (P3271: 1=Hombres, 2=Mujeres) ---\n",
    "df_desocupados_genero = pd.merge(df_desocupados_qrc,df_cgsse[[\"DIRECTORIO\", \"SECUENCIA_P\", \"ORDEN\", \"P3271\"]], on=[\"DIRECTORIO\", \"SECUENCIA_P\", \"ORDEN\"], how=\"left\")\n",
    "\n",
    "# Calcular hombres desocupados\n",
    "PHDO = df_desocupados_genero[df_desocupados_genero[\"P3271\"] == 1][\"FEX_C18\"].sum()\n",
    "print(f\"Hombres desempleados: {int(PHDO)}\")\n",
    "\n",
    "# Calcular mujeres desocupadas\n",
    "PMDO = df_desocupados_genero[df_desocupados_genero[\"P3271\"] == 2][\"FEX_C18\"].sum()\n",
    "print(f\"Mujeres desempleadas: {int(PMDO)}\")"
   ]
  },
  {
   "cell_type": "code",
   "execution_count": null,
   "id": "c8f4fcb3",
   "metadata": {},
   "outputs": [],
   "source": [
    "#CLASIFICAMOS LOS GRUPOS DE EDAD\n",
    "# Para cada uno de los departamentos, cual es el grupo de edad con mayor y menor tasa de desempleo? \n",
    "\n",
    "def clasificar_edad(x):\n",
    "    if 18 <= x < 24:\n",
    "        return \"18-24\"\n",
    "    elif 24 <= x < 30:\n",
    "        return \"24-30\"\n",
    "    elif 30 <= x < 40:\n",
    "        return \"30-40\"\n",
    "    elif 40 <= x < 50:\n",
    "        return \"40-50\"\n",
    "    elif x >= 60:\n",
    "        return \"60+\"\n",
    "    else:\n",
    "        return \"Otros\"  # Para menores de 18 y personas entre 50-59 que no clasifican"
   ]
  },
  {
   "cell_type": "code",
   "execution_count": 19,
   "id": "709419c4",
   "metadata": {},
   "outputs": [],
   "source": [
    "#Armamos la PEA por departamento y grupo de edad\n",
    "#Hacemos merge para traer la edad (P6040) tanto en ocupados como en desocupados.\n",
    "#Agrupamos por DPTO y grupo_edad.\n",
    "#Calculamos TD como antes\n",
    "# Crear columna grupo de edad en df_cgsse\n",
    "df_cgsse[\"grupo_edad\"] = df_cgsse[\"P6040\"].apply(clasificar_edad)\n",
    "\n",
    "# Desocupados con edad\n",
    "df_desocupados_gen = pd.merge(df_desocupados[df_desocupados[\"DSI\"]==1], df_cgsse[[\"DIRECTORIO\",\"SECUENCIA_P\",\"ORDEN\",\"grupo_edad\"]], on=[\"DIRECTORIO\",\"SECUENCIA_P\",\"ORDEN\"], how=\"left\")\n",
    "\n",
    "desocupados_edad = (df_desocupados_gen.groupby([\"DPTO\",\"grupo_edad\"])[\"FEX_C18\"].sum().reset_index().rename(columns={\"FEX_C18\":\"desocupados\"}))\n",
    "\n",
    "# Ocupados con edad\n",
    "df_ocupados_gen = pd.merge(df_ocupados, df_cgsse[[\"DIRECTORIO\",\"SECUENCIA_P\",\"ORDEN\",\"grupo_edad\"]], on=[\"DIRECTORIO\",\"SECUENCIA_P\",\"ORDEN\"], how=\"left\")\n",
    "\n",
    "ocupados_edad = (df_ocupados_gen.groupby([\"DPTO\",\"grupo_edad\"])[\"FEX_C18\"].sum().reset_index().rename(columns={\"FEX_C18\":\"ocupados\"}))\n",
    "\n",
    "# PEA y TD\n",
    "pea_edad = pd.merge(ocupados_edad, desocupados_edad, on=[\"DPTO\",\"grupo_edad\"], how=\"outer\").fillna(0)\n",
    "pea_edad[\"PEA\"] = pea_edad[\"ocupados\"] + pea_edad[\"desocupados\"]\n",
    "pea_edad[\"TD\"] = pea_edad[\"desocupados\"] / pea_edad[\"PEA\"] * 100"
   ]
  },
  {
   "cell_type": "code",
   "execution_count": 28,
   "id": "a7e187fa",
   "metadata": {},
   "outputs": [
    {
     "name": "stdout",
     "output_type": "stream",
     "text": [
      "Grupo con MAYOR tasa de desempleo por departamento:\n",
      "     DPTO grupo_edad         TD\n",
      "0       5      18-24  17.685962\n",
      "6       8      18-24  22.406918\n",
      "12     11      18-24  17.797990\n",
      "18     13      18-24  29.157386\n",
      "25     15      24-30  14.491221\n",
      "30     17      18-24   9.972584\n",
      "36     18      18-24  21.686963\n",
      "43     19      24-30   7.775308\n",
      "48     20      18-24  19.042303\n",
      "54     23      18-24  31.660884\n",
      "60     25      18-24  15.618810\n",
      "66     27      18-24  21.102675\n",
      "72     41      18-24  14.602874\n",
      "79     44      24-30  24.685637\n",
      "84     47      18-24  20.675536\n",
      "90     50      18-24  13.483416\n",
      "96     52      18-24  16.529172\n",
      "102    54      18-24  28.074930\n",
      "109    63      24-30  14.237924\n",
      "114    66      18-24  15.173556\n",
      "120    68      18-24  23.222696\n",
      "127    70      24-30  22.884184\n",
      "132    73      18-24  19.348020\n",
      "138    76      18-24  17.821703\n",
      "144    81      18-24  61.095429\n",
      "150    85      18-24  27.966955\n",
      "156    86      18-24  44.878068\n",
      "163    88      24-30  23.449477\n",
      "171    91      40-50   4.647341\n",
      "175    94      24-30  12.782858\n",
      "180    95      18-24  17.005129\n",
      "188    97      30-40   7.678632\n",
      "192    99      18-24  23.026006\n"
     ]
    }
   ],
   "source": [
    "# Filtramos solo los grupos válidos\n",
    "pea_edad = pea_edad[pea_edad[\"grupo_edad\"].isin([\"18-24\",\"24-30\",\"30-40\",\"40-50\",\"60+\"])] \n",
    "\n",
    "# Para cada departamento, el grupo de mayor y menor TD\n",
    "mayores = pea_edad.loc[pea_edad.groupby(\"DPTO\")[\"TD\"].idxmax()]\n",
    "menores = pea_edad.loc[pea_edad.groupby(\"DPTO\")[\"TD\"].idxmin()]\n",
    "\n",
    "print(\"Grupo con MAYOR tasa de desempleo por departamento:\")\n",
    "print(mayores[[\"DPTO\",\"grupo_edad\",\"TD\"]])\n"
   ]
  },
  {
   "cell_type": "code",
   "execution_count": 27,
   "id": "eefb44bf",
   "metadata": {},
   "outputs": [
    {
     "name": "stdout",
     "output_type": "stream",
     "text": [
      "\n",
      "Grupo con MENOR tasa de desempleo por departamento:\n",
      "     DPTO grupo_edad         TD\n",
      "4       5        60+   1.199292\n",
      "9       8      40-50   4.082692\n",
      "16     11        60+   5.426223\n",
      "22     13        60+   2.222537\n",
      "28     15        60+   0.440514\n",
      "34     17        60+   4.060989\n",
      "40     18        60+   1.244864\n",
      "46     19        60+   0.539495\n",
      "52     20        60+   0.644501\n",
      "58     23        60+   4.322568\n",
      "64     25        60+   4.202708\n",
      "70     27        60+   6.162454\n",
      "76     41        60+   0.950585\n",
      "82     44        60+   0.466427\n",
      "88     47        60+   3.495022\n",
      "94     50        60+   3.972646\n",
      "100    52        60+   2.122516\n",
      "106    54        60+   4.730661\n",
      "111    63      40-50   6.506359\n",
      "118    66        60+   3.639861\n",
      "124    68        60+   4.564159\n",
      "130    70        60+   2.869353\n",
      "136    73        60+   9.458632\n",
      "142    76        60+   5.954849\n",
      "147    81      40-50  12.725505\n",
      "154    85        60+   0.000000\n",
      "158    86      30-40  10.837416\n",
      "165    88      40-50   6.261247\n",
      "168    91      18-24   0.000000\n",
      "178    94        60+   0.000000\n",
      "182    95      30-40   6.376562\n",
      "186    97      18-24   0.000000\n",
      "196    99        60+   0.000000\n"
     ]
    }
   ],
   "source": [
    "print(\"\\nGrupo con MENOR tasa de desempleo por departamento:\")\n",
    "print(menores[[\"DPTO\",\"grupo_edad\",\"TD\"]])"
   ]
  },
  {
   "cell_type": "code",
   "execution_count": null,
   "id": "e0ce8c0b",
   "metadata": {},
   "outputs": [],
   "source": [
    "#En la mayoría de departamentos, los jóvenes de entre 18 y 24 años son el grupo con la tasa más alta de desempleo, lo cual evidencia los obstáculos que enfrenta esta población para conseguir trabajo.  En ciertas regiones, como Bolívar, Valle del Cauca y Norte de Santander, la franja de 24 a 30 años es la que más se ve afectada, lo cual demuestra que la vulnerabilidad también afecta a los adultos jóvenes."
   ]
  },
  {
   "cell_type": "code",
   "execution_count": null,
   "id": "d10cf957",
   "metadata": {},
   "outputs": [],
   "source": [
    "#PUNTO 4"
   ]
  },
  {
   "cell_type": "code",
   "execution_count": 32,
   "id": "09f17c3f",
   "metadata": {},
   "outputs": [],
   "source": [
    "#Filtrar mujeres de 18 a 24 años de edad\n",
    "df_cgsse[\"grupo_edad\"] = df_cgsse[\"P6040\"].apply(clasificar_edad)\n",
    "df_mujeres_oc = df_ocupados_gen[(df_ocupados_gen[\"P3271\"]==2) & (df_ocupados_gen[\"grupo_edad\"]==\"18-24\")]\n",
    "df_mujeres_des = df_desocupados_gen[(df_desocupados_gen[\"P3271\"]==2) & (df_desocupados_gen[\"grupo_edad\"]==\"18-24\")]"
   ]
  },
  {
   "cell_type": "code",
   "execution_count": 31,
   "id": "2d1b341d",
   "metadata": {},
   "outputs": [],
   "source": [
    "#Merge de ocupados y desocupados con sexo y edad\n",
    "df_ocupados_gen = pd.merge(df_ocupados, df_cgsse[[\"DIRECTORIO\",\"SECUENCIA_P\",\"ORDEN\",\"P3271\",\"grupo_edad\"]], on=[\"DIRECTORIO\",\"SECUENCIA_P\",\"ORDEN\"], how=\"left\")\n",
    "df_desocupados_gen = pd.merge(df_desocupados[df_desocupados[\"DSI\"]==1], df_cgsse[[\"DIRECTORIO\",\"SECUENCIA_P\",\"ORDEN\",\"P3271\",\"grupo_edad\"]], on=[\"DIRECTORIO\",\"SECUENCIA_P\",\"ORDEN\"], how=\"left\")"
   ]
  },
  {
   "cell_type": "code",
   "execution_count": 33,
   "id": "5b705d7c",
   "metadata": {},
   "outputs": [],
   "source": [
    "#Agrupar por departamento\n",
    "ocupadas = df_mujeres_oc.groupby(\"DPTO\")[\"FEX_C18\"].sum().reset_index().rename(columns={\"FEX_C18\":\"ocupadas\"})\n",
    "desocupadas = df_mujeres_des.groupby(\"DPTO\")[\"FEX_C18\"].sum().reset_index().rename(columns={\"FEX_C18\":\"desocupadas\"})"
   ]
  },
  {
   "cell_type": "code",
   "execution_count": 36,
   "id": "1efa5696",
   "metadata": {},
   "outputs": [],
   "source": [
    "#Calcular PEA y TD\n",
    "pea = pd.merge(ocupadas, desocupadas, on=\"DPTO\", how=\"outer\").fillna(0)\n",
    "pea[\"PEA\"] = pea[\"ocupadas\"] + pea[\"desocupadas\"]\n",
    "pea[\"TD\"] = pea[\"desocupadas\"] / pea[\"PEA\"] * 100"
   ]
  },
  {
   "cell_type": "code",
   "execution_count": 37,
   "id": "d1cf18db",
   "metadata": {},
   "outputs": [
    {
     "name": "stdout",
     "output_type": "stream",
     "text": [
      "    DPTO     ocupadas  desocupadas          PEA        TD\n",
      "31    97   111.385759     0.000000   111.385759  0.000000\n",
      "28    91   251.281733     0.000000   251.281733  0.000000\n",
      "18    63  7322.443307   310.224229  7632.667536  4.064427\n"
     ]
    }
   ],
   "source": [
    "#Ordenar y mostrar los 3 departamentos con mayor TD\n",
    "td_mujeres_18_24_min = pea.sort_values(\"TD\").head(3)\n",
    "print(td_mujeres_18_24_min)"
   ]
  },
  {
   "cell_type": "code",
   "execution_count": null,
   "id": "96e6c797",
   "metadata": {},
   "outputs": [],
   "source": [
    "#Vaupés (0%), Amazonas (0%) y Quindío (4.06%) son los tres departamentos con la tasa de desempleo más baja en mujeres de 18 a 24 años, lo que demuestra que las mujeres jóvenes en estas áreas tienen menos obstáculos para acceder al mercado laboral."
   ]
  },
  {
   "cell_type": "code",
   "execution_count": null,
   "id": "d4af2079",
   "metadata": {},
   "outputs": [],
   "source": [
    "#PUNTO 5 "
   ]
  },
  {
   "cell_type": "code",
   "execution_count": 41,
   "id": "e21a1eb7",
   "metadata": {},
   "outputs": [
    {
     "name": "stdout",
     "output_type": "stream",
     "text": [
      "      Departamento  Ingreso_promedio\n",
      "0        Antioquia      2.090819e+06\n",
      "1           Caldas      1.958683e+06\n",
      "2          Quindío      1.637336e+06\n",
      "3        Risaralda      1.621205e+06\n",
      "4  Valle del Cauca      1.698392e+06\n"
     ]
    },
    {
     "name": "stderr",
     "output_type": "stream",
     "text": [
      "/tmp/ipykernel_2089/351722446.py:6: FutureWarning: DataFrameGroupBy.apply operated on the grouping columns. This behavior is deprecated, and in a future version of pandas the grouping columns will be excluded from the operation. Either pass `include_groups=False` to exclude the groupings or explicitly select the grouping columns after groupby to silence this warning.\n",
      "  promedios_ingresos = (df_ingresos.groupby(\"DPTO\").apply(lambda x: (x[\"INGLABO\"] * x[\"FEX_C18\"]).sum() / x[\"FEX_C18\"].sum()).reset_index(name=\"Ingreso_promedio\"))\n"
     ]
    }
   ],
   "source": [
    "# Filtrar ocupados en los departamentos a analizar\n",
    "deptos_interes = [66, 17, 63, 5, 76]  # 66=Risaralda, 17=Caldas, 63=Quindío, 5=Antioquia, 76=Valle del Cauca\n",
    "df_ingresos = df_ocupados[df_ocupados[\"DPTO\"].isin(deptos_interes)]\n",
    "\n",
    "# Calcular el promedio ponderado de ingresos laborales (INGLABO)\n",
    "promedios_ingresos = (df_ingresos.groupby(\"DPTO\").apply(lambda x: (x[\"INGLABO\"] * x[\"FEX_C18\"]).sum() / x[\"FEX_C18\"].sum()).reset_index(name=\"Ingreso_promedio\"))\n",
    "\n",
    "# Reemplazar códigos de departamentos por nombres\n",
    "mapa_dptos = {66:\"Risaralda\", 17:\"Caldas\", 63:\"Quindío\", 5:\"Antioquia\", 76:\"Valle del Cauca\"}\n",
    "promedios_ingresos[\"Departamento\"] = promedios_ingresos[\"DPTO\"].map(mapa_dptos)\n",
    "\n",
    "# Reordenar columnas\n",
    "promedios_ingresos = promedios_ingresos[[\"Departamento\",\"Ingreso_promedio\"]]\n",
    "\n",
    "print(promedios_ingresos)"
   ]
  },
  {
   "cell_type": "code",
   "execution_count": null,
   "id": "be766950",
   "metadata": {},
   "outputs": [],
   "source": [
    "#Los hallazgos revelan que el ingreso laboral promedio más elevado de los departamentos estudiados en 2025 es el de Antioquia (≈2,09 millones de pesos), y luego está Caldas (≈1,96 millones).  Por otro lado, los ingresos más bajos se registran en Quindío (≈1,63 millones) y Risaralda (≈1,62 millones).  Esto muestra una disparidad regional en el mercado de trabajo, donde Antioquia tiene la mayor retribución media, a diferencia de los departamentos del Eje Cafetero, que tienen ingresos más modestos."
   ]
  },
  {
   "cell_type": "code",
   "execution_count": null,
   "id": "092e6983",
   "metadata": {},
   "outputs": [],
   "source": [
    "#PUNTO 6 "
   ]
  },
  {
   "cell_type": "code",
   "execution_count": 42,
   "id": "46ed4821",
   "metadata": {},
   "outputs": [],
   "source": [
    "# Definir función para agrupar edades\n",
    "def clasificar_edad(x):\n",
    "    if 18 <= x < 24:\n",
    "        return \"18-24\"\n",
    "    elif 24 <= x < 30:\n",
    "        return \"24-30\"\n",
    "    elif 30 <= x < 40:\n",
    "        return \"30-40\"\n",
    "    elif 40 <= x < 50:\n",
    "        return \"40-50\"\n",
    "    elif x >= 60:\n",
    "        return \"60+\"\n",
    "    else:\n",
    "        return None\n",
    "\n",
    "# Crear variable de grupo de edad\n",
    "df_cgsse[\"grupo_edad\"] = df_cgsse[\"P6040\"].apply(clasificar_edad)"
   ]
  },
  {
   "cell_type": "code",
   "execution_count": 43,
   "id": "1b06b537",
   "metadata": {},
   "outputs": [],
   "source": [
    "# Merge con ocupados para traer sexo y edad\n",
    "df_ocupados_gen = pd.merge(df_ocupados, df_cgsse[[\"DIRECTORIO\",\"SECUENCIA_P\",\"ORDEN\",\"P3271\",\"grupo_edad\"]], on=[\"DIRECTORIO\",\"SECUENCIA_P\",\"ORDEN\"],how=\"left\")\n",
    "\n",
    "# Filtrar departamentos de interés\n",
    "deptos_interes = [66, 17, 63, 5, 76]\n",
    "df_filtrado = df_ocupados_gen[df_ocupados_gen[\"DPTO\"].isin(deptos_interes)]"
   ]
  },
  {
   "cell_type": "code",
   "execution_count": 44,
   "id": "e4af1ea8",
   "metadata": {},
   "outputs": [
    {
     "name": "stderr",
     "output_type": "stream",
     "text": [
      "/tmp/ipykernel_2089/4095260200.py:2: FutureWarning: DataFrameGroupBy.apply operated on the grouping columns. This behavior is deprecated, and in a future version of pandas the grouping columns will be excluded from the operation. Either pass `include_groups=False` to exclude the groupings or explicitly select the grouping columns after groupby to silence this warning.\n",
      "  prom_ingresos = (df_filtrado.groupby([\"DPTO\",\"P3271\",\"grupo_edad\"]).apply(lambda x: (x[\"INGLABO\"] * x[\"FEX_C18\"]).sum() / x[\"FEX_C18\"].sum()).reset_index(name=\"Ingreso_promedio\"))\n"
     ]
    }
   ],
   "source": [
    "# Calcular promedio ponderado de ingresos por depto, sexo y grupo de edad\n",
    "prom_ingresos = (df_filtrado.groupby([\"DPTO\",\"P3271\",\"grupo_edad\"]).apply(lambda x: (x[\"INGLABO\"] * x[\"FEX_C18\"]).sum() / x[\"FEX_C18\"].sum()).reset_index(name=\"Ingreso_promedio\"))"
   ]
  },
  {
   "cell_type": "code",
   "execution_count": 45,
   "id": "95c7ea49",
   "metadata": {},
   "outputs": [],
   "source": [
    "# Mapear nombres de departamentos y sexo\n",
    "mapa_dptos = {66:\"Risaralda\", 17:\"Caldas\", 63:\"Quindío\", 5:\"Antioquia\", 76:\"Valle del Cauca\"}\n",
    "prom_ingresos[\"Departamento\"] = prom_ingresos[\"DPTO\"].map(mapa_dptos)\n",
    "prom_ingresos[\"Sexo\"] = prom_ingresos[\"P3271\"].map({1:\"Hombres\", 2:\"Mujeres\"})"
   ]
  },
  {
   "cell_type": "code",
   "execution_count": 46,
   "id": "ba38d1a8",
   "metadata": {},
   "outputs": [
    {
     "name": "stdout",
     "output_type": "stream",
     "text": [
      "   Departamento     Sexo grupo_edad  Ingreso_promedio\n",
      "0     Antioquia  Hombres      18-24      1.364005e+06\n",
      "1     Antioquia  Hombres      24-30      1.828144e+06\n",
      "2     Antioquia  Hombres      30-40      2.159206e+06\n",
      "3     Antioquia  Hombres      40-50      2.771747e+06\n",
      "4     Antioquia  Hombres        60+      1.738620e+06\n",
      "5     Antioquia  Mujeres      18-24      1.418639e+06\n",
      "6     Antioquia  Mujeres      24-30      1.837916e+06\n",
      "7     Antioquia  Mujeres      30-40      2.291801e+06\n",
      "8     Antioquia  Mujeres      40-50      2.111094e+06\n",
      "9     Antioquia  Mujeres        60+      1.510449e+06\n",
      "10       Caldas  Hombres      18-24      2.216063e+06\n",
      "11       Caldas  Hombres      24-30      1.754677e+06\n",
      "12       Caldas  Hombres      30-40      1.762301e+06\n",
      "13       Caldas  Hombres      40-50      2.470039e+06\n",
      "14       Caldas  Hombres        60+      2.309864e+06\n",
      "15       Caldas  Mujeres      18-24      1.133456e+06\n",
      "16       Caldas  Mujeres      24-30      1.832716e+06\n",
      "17       Caldas  Mujeres      30-40      1.990588e+06\n",
      "18       Caldas  Mujeres      40-50      2.186629e+06\n",
      "19       Caldas  Mujeres        60+      1.669178e+06\n"
     ]
    }
   ],
   "source": [
    "prom_ingresos = prom_ingresos[[\"Departamento\",\"Sexo\",\"grupo_edad\",\"Ingreso_promedio\"]]\n",
    "print(prom_ingresos.head(20))"
   ]
  },
  {
   "cell_type": "code",
   "execution_count": null,
   "id": "0aa1c80d",
   "metadata": {},
   "outputs": [],
   "source": [
    "#En la mayoría de las situaciones, los ingresos laborales se incrementan con la edad. Tanto hombres como mujeres llegan a su máximo entre los 40 y los 50 años.  Además, se ha visto que, a excepción de algunas situaciones específicas como la de los hombres jóvenes (18-24 años) en Caldas, los hombres tienden a tener un ingreso medio más alto que las mujeres en los mismos grupos etarios. Esto muestra una diferencia salarial entre géneros en las regiones estudiadas."
   ]
  },
  {
   "cell_type": "code",
   "execution_count": null,
   "id": "5718581a",
   "metadata": {},
   "outputs": [],
   "source": [
    "# PUNTO 7"
   ]
  },
  {
   "cell_type": "code",
   "execution_count": 47,
   "id": "b6db7f8d",
   "metadata": {},
   "outputs": [
    {
     "name": "stdout",
     "output_type": "stream",
     "text": [
      "Index(['PERIODO', 'MES', 'PER', 'DIRECTORIO', 'SECUENCIA_P', 'ORDEN', 'HOGAR',\n",
      "       'REGIS', 'AREA', 'CLASE',\n",
      "       ...\n",
      "       'P1881', 'P1881S1', 'P1882', 'P7240', 'P7240S1', 'OCI', 'INGLABO',\n",
      "       'RAMA2D_R4', 'RAMA4D_R4', 'OFICIO_C8'],\n",
      "      dtype='object', length=202)\n",
      "     OFICIO_C8  Ingreso_promedio\n",
      "63        2267      5.176025e+07\n",
      "25        1349      1.673692e+07\n",
      "93        2523      1.100000e+07\n",
      "96        2612      1.040657e+07\n",
      "94        2529      1.015048e+07\n",
      "156       3321      9.351115e+06\n",
      "52        2212      8.946374e+06\n",
      "7         1211      8.923134e+06\n",
      "90        2513      8.852754e+06\n",
      "12        1222      8.541606e+06\n"
     ]
    },
    {
     "name": "stderr",
     "output_type": "stream",
     "text": [
      "/tmp/ipykernel_2089/1933472876.py:4: FutureWarning: DataFrameGroupBy.apply operated on the grouping columns. This behavior is deprecated, and in a future version of pandas the grouping columns will be excluded from the operation. Either pass `include_groups=False` to exclude the groupings or explicitly select the grouping columns after groupby to silence this warning.\n",
      "  ingresos_ciuo = (df_ocupados.groupby(\"OFICIO_C8\").apply(lambda x: (x[\"INGLABO\"] * x[\"FEX_C18\"]).sum() / x[\"FEX_C18\"].sum()).reset_index(name=\"Ingreso_promedio\"))\n"
     ]
    }
   ],
   "source": [
    "print(df_ocupados.columns)\n",
    "\n",
    "# Calcular promedio ponderado de ingresos laborales por oficio (OFICIO_C8)\n",
    "ingresos_ciuo = (df_ocupados.groupby(\"OFICIO_C8\").apply(lambda x: (x[\"INGLABO\"] * x[\"FEX_C18\"]).sum() / x[\"FEX_C18\"].sum()).reset_index(name=\"Ingreso_promedio\"))\n",
    "\n",
    "# Ordenar de mayor a menor ingreso\n",
    "ingresos_ciuo = ingresos_ciuo.sort_values(\"Ingreso_promedio\", ascending=False)\n",
    "\n",
    "# Mostrar los 10 oficios mejor pagados\n",
    "print(ingresos_ciuo.head(10))"
   ]
  },
  {
   "cell_type": "code",
   "execution_count": null,
   "id": "95a7ecf2",
   "metadata": {},
   "outputs": [],
   "source": [
    "#PUNTO 8"
   ]
  },
  {
   "cell_type": "code",
   "execution_count": 48,
   "id": "1c4eee0a",
   "metadata": {},
   "outputs": [
    {
     "name": "stdout",
     "output_type": "stream",
     "text": [
      "      Departamento     Sexo  Ingreso_promedio\n",
      "0        Antioquia  Hombres      1.568818e+07\n",
      "1           Caldas  Hombres      4.913083e+06\n",
      "2           Caldas  Mujeres      1.000000e+07\n",
      "3          Quindío  Hombres      4.693600e+06\n",
      "4          Quindío  Mujeres      6.563233e+06\n",
      "5  Valle del Cauca  Hombres      7.000000e+06\n",
      "6  Valle del Cauca  Mujeres      1.291129e+07\n"
     ]
    },
    {
     "name": "stderr",
     "output_type": "stream",
     "text": [
      "/tmp/ipykernel_2089/1318668966.py:14: FutureWarning: DataFrameGroupBy.apply operated on the grouping columns. This behavior is deprecated, and in a future version of pandas the grouping columns will be excluded from the operation. Either pass `include_groups=False` to exclude the groupings or explicitly select the grouping columns after groupby to silence this warning.\n",
      "  promedios = (df_filtrado.groupby([\"DPTO\",\"P3271\"]).apply(lambda x: (x[\"INGLABO\"] * x[\"FEX_C18\"]).sum() / x[\"FEX_C18\"].sum()).reset_index(name=\"Ingreso_promedio\"))\n"
     ]
    }
   ],
   "source": [
    "# Oficio elegido (2212 = Médicos especialistas)\n",
    "codigo_oficio = 2212\n",
    "\n",
    "# Departamentos de interés\n",
    "deptos_interes = [17, 63, 5, 76]\n",
    "\n",
    "# Merge para traer sexo (P3271) desde df_cgsse\n",
    "df_ocupados_gen = pd.merge(df_ocupados, df_cgsse[[\"DIRECTORIO\",\"SECUENCIA_P\",\"ORDEN\",\"P3271\"]], on=[\"DIRECTORIO\",\"SECUENCIA_P\",\"ORDEN\"], how=\"left\")\n",
    "\n",
    "# Filtrar por oficio y departamentos\n",
    "df_filtrado = df_ocupados_gen[(df_ocupados_gen[\"OFICIO_C8\"] == codigo_oficio) & (df_ocupados_gen[\"DPTO\"].isin(deptos_interes))]\n",
    "\n",
    "# Calcular promedio ponderado de ingresos por sexo y departamento\n",
    "promedios = (df_filtrado.groupby([\"DPTO\",\"P3271\"]).apply(lambda x: (x[\"INGLABO\"] * x[\"FEX_C18\"]).sum() / x[\"FEX_C18\"].sum()).reset_index(name=\"Ingreso_promedio\"))\n",
    "\n",
    "# Mapear nombres\n",
    "mapa_dptos = {17:\"Caldas\", 63:\"Quindío\", 5:\"Antioquia\", 76:\"Valle del Cauca\"}\n",
    "promedios[\"Departamento\"] = promedios[\"DPTO\"].map(mapa_dptos)\n",
    "promedios[\"Sexo\"] = promedios[\"P3271\"].map({1:\"Hombres\", 2:\"Mujeres\"})\n",
    "\n",
    "# Reordenar columnas\n",
    "promedios = promedios[[\"Departamento\",\"Sexo\",\"Ingreso_promedio\"]]\n",
    "\n",
    "print(promedios)"
   ]
  },
  {
   "cell_type": "markdown",
   "id": "deb4f941",
   "metadata": {},
   "source": [
    "Los hallazgos evidencian disparidades significativas entre hombres y mujeres en la ocupación que se estudia.  En Antioquia, los hombres tienen ingresos mucho más altos (aproximadamente 15,7 millones).  En contraste, en Valle del Cauca, Caldas y Quindío las mujeres ganan más que los hombres; de hecho, en algunas ocasiones sus ingresos llegan a ser el doble (por ejemplo, en Valle del Cauca: 12.9 millones contra 7 millones).\n",
    "\n",
    " Para concluir, sí hay diferencias importantes entre géneros, aunque no son uniformes: en algunos departamentos predominan los hombres y en otros las mujeres, lo que demuestra una variación de la brecha salarial según el territorio dentro del mismo oficio."
   ]
  },
  {
   "cell_type": "code",
   "execution_count": null,
   "id": "9e7b094f",
   "metadata": {},
   "outputs": [],
   "source": [
    "# PUNTO 9"
   ]
  },
  {
   "cell_type": "code",
   "execution_count": 49,
   "id": "32865747",
   "metadata": {},
   "outputs": [
    {
     "name": "stdout",
     "output_type": "stream",
     "text": [
      "Mayor salario Hombres:\n",
      "     OFICIO_C8  P3271  Ingreso_promedio     Sexo\n",
      "24       2142      1      7.986427e+06  Hombres\n",
      "\n",
      "Menor salario Hombres:\n",
      "      OFICIO_C8  P3271  Ingreso_promedio     Sexo\n",
      "183       7111      1               0.0  Hombres\n",
      "\n",
      "Mayor salario Mujeres:\n",
      "     OFICIO_C8  P3271  Ingreso_promedio     Sexo\n",
      "35       2212      2      6.563233e+06  Mujeres\n",
      "\n",
      "Menor salario Mujeres:\n",
      "      OFICIO_C8  P3271  Ingreso_promedio     Sexo\n",
      "206       7513      2               0.0  Mujeres\n"
     ]
    },
    {
     "name": "stderr",
     "output_type": "stream",
     "text": [
      "/tmp/ipykernel_2089/4032156403.py:7: FutureWarning: DataFrameGroupBy.apply operated on the grouping columns. This behavior is deprecated, and in a future version of pandas the grouping columns will be excluded from the operation. Either pass `include_groups=False` to exclude the groupings or explicitly select the grouping columns after groupby to silence this warning.\n",
      "  prom_quindio = (df_quindio.groupby([\"OFICIO_C8\",\"P3271\"]).apply(lambda x: (x[\"INGLABO\"] * x[\"FEX_C18\"]).sum() / x[\"FEX_C18\"].sum()).reset_index(name=\"Ingreso_promedio\"))\n"
     ]
    }
   ],
   "source": [
    "# Filtrar ocupados del Quindío y unir sexo\n",
    "df_ocupados_gen = pd.merge(df_ocupados, df_cgsse[[\"DIRECTORIO\",\"SECUENCIA_P\",\"ORDEN\",\"P3271\"]], on=[\"DIRECTORIO\",\"SECUENCIA_P\",\"ORDEN\"], how=\"left\")\n",
    "\n",
    "df_quindio = df_ocupados_gen[df_ocupados_gen[\"DPTO\"] == 63]\n",
    "\n",
    "# Calcular promedio ponderado por oficio y sexo\n",
    "prom_quindio = (df_quindio.groupby([\"OFICIO_C8\",\"P3271\"]).apply(lambda x: (x[\"INGLABO\"] * x[\"FEX_C18\"]).sum() / x[\"FEX_C18\"].sum()).reset_index(name=\"Ingreso_promedio\"))\n",
    "\n",
    "# Mapear sexo\n",
    "prom_quindio[\"Sexo\"] = prom_quindio[\"P3271\"].map({1:\"Hombres\", 2:\"Mujeres\"})\n",
    "\n",
    "# Oficio con mayor y menor ingreso para hombres\n",
    "max_hombres = prom_quindio[prom_quindio[\"Sexo\"]==\"Hombres\"].sort_values(\"Ingreso_promedio\", ascending=False).head(1)\n",
    "min_hombres = prom_quindio[prom_quindio[\"Sexo\"]==\"Hombres\"].sort_values(\"Ingreso_promedio\", ascending=True).head(1)\n",
    "\n",
    "# Oficio con mayor y menor ingreso para mujeres\n",
    "max_mujeres = prom_quindio[prom_quindio[\"Sexo\"]==\"Mujeres\"].sort_values(\"Ingreso_promedio\", ascending=False).head(1)\n",
    "min_mujeres = prom_quindio[prom_quindio[\"Sexo\"]==\"Mujeres\"].sort_values(\"Ingreso_promedio\", ascending=True).head(1)\n",
    "\n",
    "print(\"Mayor salario Hombres:\\n\", max_hombres)\n",
    "print(\"\\nMenor salario Hombres:\\n\", min_hombres)\n",
    "print(\"\\nMayor salario Mujeres:\\n\", max_mujeres)\n",
    "print(\"\\nMenor salario Mujeres:\\n\", min_mujeres)"
   ]
  },
  {
   "cell_type": "markdown",
   "id": "20c91903",
   "metadata": {},
   "source": [
    "2142 - Ingenieros electrónicos es la ocupación masculina mejor pagada en el Quindío, con un salario promedio de 7,98 millones de pesos.\n",
    "\n",
    " 7111 - Albañiles es la ocupación con el salario más bajo de los hombres, mostrando cero ingresos. Esto probablemente se deba a que en la muestra no hay registros válidos o a que los ingresos han sido subdeclarados.\n",
    "\n",
    " 2212 – Médicos especialistas es la ocupación con el ingreso más alto entre las mujeres, con una media de 6,56 millones de pesos.\n",
    " La categoría con menos ingresos en las mujeres es la de \"Trabajadoras de preparación de alimentos callejeros\", que se presenta con un valor cero, lo cual también indica que no se reportaron ingresos en la encuesta."
   ]
  }
 ],
 "metadata": {
  "kernelspec": {
   "display_name": "Python 3",
   "language": "python",
   "name": "python3"
  },
  "language_info": {
   "codemirror_mode": {
    "name": "ipython",
    "version": 3
   },
   "file_extension": ".py",
   "mimetype": "text/x-python",
   "name": "python",
   "nbconvert_exporter": "python",
   "pygments_lexer": "ipython3",
   "version": "3.12.1"
  }
 },
 "nbformat": 4,
 "nbformat_minor": 5
}
