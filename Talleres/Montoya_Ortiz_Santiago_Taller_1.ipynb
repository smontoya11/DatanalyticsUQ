{
 "cells": [
  {
   "cell_type": "code",
   "execution_count": 1,
   "id": "17e37b1f",
   "metadata": {},
   "outputs": [],
   "source": [
    "#TALLER"
   ]
  },
  {
   "cell_type": "code",
   "execution_count": 2,
   "id": "ad7fa3ea",
   "metadata": {},
   "outputs": [],
   "source": [
    "import pandas as pd\n",
    "import numpy as np"
   ]
  },
  {
   "cell_type": "code",
   "execution_count": 3,
   "id": "ace01a98",
   "metadata": {},
   "outputs": [],
   "source": [
    "#PUNTO 1"
   ]
  },
  {
   "cell_type": "code",
   "execution_count": 4,
   "id": "e24f5a04",
   "metadata": {},
   "outputs": [],
   "source": [
    "#Importando tambien los datos de la GEIH 2025, directamente desde el repositorio del profesor\n",
    "df_cgsse = pd.read_csv(\"https://github.com/niconomist98/DataAnalyticsUQ/raw/refs/heads/main/Datos/GEIH2025/cgsse.CSV\"\n",
    "                       ,encoding=\"latin\", sep= \";\") \n",
    "df_ft = pd.read_csv(\"https://github.com/niconomist98/DataAnalyticsUQ/raw/refs/heads/main/Datos/GEIH2025/Fuerza%20de%20trabajo.CSV\"\n",
    "                       ,encoding=\"latin\", sep= \";\", low_memory=False) \n",
    "df_ocupado = pd.read_csv(\"https://github.com/niconomist98/DataAnalyticsUQ/raw/refs/heads/main/Datos/GEIH2025/Ocupados.CSV\"\n",
    "                       ,encoding=\"latin\", sep= \";\", low_memory=False) \n",
    "df_desocupados = pd.read_csv(\"https://github.com/niconomist98/DataAnalyticsUQ/raw/refs/heads/main/Datos/GEIH2025/No%20ocupados.CSV\"\n",
    "                       ,encoding=\"latin\", sep= \";\") "
   ]
  },
  {
   "cell_type": "code",
   "execution_count": 5,
   "id": "b031bb1c",
   "metadata": {},
   "outputs": [
    {
     "name": "stdout",
     "output_type": "stream",
     "text": [
      "Población total de colombia: 52045001\n"
     ]
    }
   ],
   "source": [
    "# 1. Poblacion total de colombia: \n",
    "ptc = df_cgsse[\"FEX_C18\"].sum()\n",
    "print('Población total de colombia:', int(ptc))"
   ]
  },
  {
   "cell_type": "code",
   "execution_count": 6,
   "id": "8baad05f",
   "metadata": {},
   "outputs": [
    {
     "name": "stdout",
     "output_type": "stream",
     "text": [
      "La poblacion total sin edad para trabajar es: 11391585\n",
      "La poblacion total con edad para trabjar es: 40653416\n"
     ]
    }
   ],
   "source": [
    "#Poblacion en edad de trabajar y en no edad de trabajar\n",
    "\n",
    "sin_edad_trabajar = df_cgsse[df_cgsse['P6040']<15]['FEX_C18'].sum()\n",
    "edad_trabajar = df_cgsse[df_cgsse['P6040']>=15]['FEX_C18']\n",
    "total_edad_trabajar = df_cgsse[df_cgsse['P6040']>=15]['FEX_C18'].sum()\n",
    "\n",
    "print('La poblacion total sin edad para trabajar es:',int(sin_edad_trabajar))\n",
    "print('La poblacion total con edad para trabjar es:',int(total_edad_trabajar))\n"
   ]
  },
  {
   "cell_type": "code",
   "execution_count": 7,
   "id": "51144f53",
   "metadata": {},
   "outputs": [
    {
     "name": "stdout",
     "output_type": "stream",
     "text": [
      "La poblacion economicamente activa es: 25974846\n"
     ]
    }
   ],
   "source": [
    "#Calculado ahora la poblacion economicamente activa\n",
    "pea = df_ft[df_ft['FT']==1]['FEX_C18'].sum()\n",
    "print('La poblacion economicamente activa es:',int(pea))"
   ]
  },
  {
   "cell_type": "code",
   "execution_count": 8,
   "id": "8a612606",
   "metadata": {},
   "outputs": [
    {
     "name": "stdout",
     "output_type": "stream",
     "text": [
      "La poblacion economicamente inactiva es: 14678569\n"
     ]
    }
   ],
   "source": [
    "#Calculo de Poblacion economicamente inactiva\n",
    "pei = df_ft[df_ft['FFT']==1]['FEX_C18'].sum()\n",
    "print('La poblacion economicamente inactiva es:',int(pei))\n"
   ]
  },
  {
   "cell_type": "code",
   "execution_count": 9,
   "id": "88d06d6e",
   "metadata": {},
   "outputs": [
    {
     "name": "stdout",
     "output_type": "stream",
     "text": [
      "La tasa de desempleo es: 65.06 %\n"
     ]
    }
   ],
   "source": [
    "# Tasa de desempleo\n",
    "desocupados = df_desocupados['FEX_C18'].sum()\n",
    "td = (desocupados / pea) * 100\n",
    "print('La tasa de desempleo es:', round(td, 2), '%')"
   ]
  },
  {
   "cell_type": "code",
   "execution_count": 10,
   "id": "da12e3bf",
   "metadata": {},
   "outputs": [
    {
     "name": "stdout",
     "output_type": "stream",
     "text": [
      "La cantidad de personas desempleadas es: 2221893\n",
      "La tasa de desempleo es:8.554020086155528 %\n"
     ]
    }
   ],
   "source": [
    "#Cantiadad de personas desempleadas\n",
    "D = df_desocupados[df_desocupados['DSI']==1]['FEX_C18'].sum()\n",
    "print('La cantidad de personas desempleadas es:', int(D))\n",
    "\n",
    "#Tasa de desempleados\n",
    "td = (D / pea)\n",
    "print(f'La tasa de desempleo es:{td*100} %')"
   ]
  },
  {
   "cell_type": "code",
   "execution_count": 11,
   "id": "e5c77fe4",
   "metadata": {},
   "outputs": [
    {
     "name": "stdout",
     "output_type": "stream",
     "text": [
      "La cantidad de personas ocupadas es: 23752952\n",
      "La poblacion en edad de trabajar es: 40653416\n",
      "La tasa de ocupados es: 58.43%\n"
     ]
    }
   ],
   "source": [
    "# Tasa de ocupados\n",
    "O = df_ocupado['FEX_C18'].sum()\n",
    "print('La cantidad de personas ocupadas es:', int(O))\n",
    "\n",
    "#poblacion en edad de trabajar\n",
    "pet = df_ft['FEX_C18'].sum()\n",
    "print('La poblacion en edad de trabajar es:', int(pet))\n",
    "\n",
    "#TASA DE OCUPADOS\n",
    "to = (O / pet) \n",
    "print(f'La tasa de ocupados es: {to:.2%}')"
   ]
  },
  {
   "cell_type": "code",
   "execution_count": 12,
   "id": "668c4958",
   "metadata": {},
   "outputs": [],
   "source": [
    "#EJERCICIO EN CLASE"
   ]
  },
  {
   "cell_type": "code",
   "execution_count": 13,
   "id": "fafbcccf",
   "metadata": {},
   "outputs": [
    {
     "data": {
      "text/plain": [
       "array([ 8, 70, 41, 63, 66,  5, 11, 13, 15, 17, 18, 19, 20, 23, 25, 27, 44,\n",
       "       47, 50, 52, 54, 68, 73, 76, 81, 85, 86, 88, 91, 94, 95, 97, 99])"
      ]
     },
     "execution_count": 13,
     "metadata": {},
     "output_type": "execute_result"
    }
   ],
   "source": [
    "#identificar el departamento\n",
    "df_ft['DPTO'].unique()"
   ]
  },
  {
   "cell_type": "code",
   "execution_count": 14,
   "id": "1cfec56f",
   "metadata": {},
   "outputs": [],
   "source": [
    "df_desocupados = pd.merge(df_desocupados, df_cgsse[['DIRECTORIO', 'SECUENCIA_P', 'ORDEN', 'P3271']],\n",
    "                        on=['DIRECTORIO', 'SECUENCIA_P', 'ORDEN'], how='left')\n",
    "\n",
    "df_ft = pd.merge(df_ft, df_cgsse[['DIRECTORIO', 'SECUENCIA_P', 'ORDEN', 'P3271']],\n",
    "                        on=['DIRECTORIO', 'SECUENCIA_P', 'ORDEN'], how='left')"
   ]
  },
  {
   "cell_type": "code",
   "execution_count": 15,
   "id": "789f8f8b",
   "metadata": {},
   "outputs": [
    {
     "name": "stdout",
     "output_type": "stream",
     "text": [
      "Mujeres Desempleadas en el Quindio: 10618.534945967001\n",
      "Poblacion Economicamente Activa de mujeres en el quindío: 116885.879263648\n",
      "Tasa de Desempleo en mujeres del quindío: 9.084531863781265%\n"
     ]
    }
   ],
   "source": [
    "# tasa de desempleo en Quindío Caldas y Risaralda\n",
    "MDQ = df_desocupados[(df_desocupados['DSI']==1) & (df_desocupados['DPTO']==63) & (df_desocupados['P3271']==2)]['FEX_C18'].sum()\n",
    "print(f'Mujeres Desempleadas en el Quindio: {MDQ}')\n",
    "# 2. Calcular cantidad de mujeres en la PEA del quindío\n",
    "PEAMQ = df_ft[(df_ft['FT']==1) & (df_ft['DPTO']==63) & (df_ft['P3271']==2) ]['FEX_C18'].sum()\n",
    "print(f'Poblacion Economicamente Activa de mujeres en el quindío: {PEAMQ}')\n",
    "\n",
    "# 3. Calcular la tasa de desempleo en mujeres del quindío\n",
    "TDMQ = MDQ/PEAMQ\n",
    "print(f'Tasa de Desempleo en mujeres del quindío: {TDMQ*100}%')"
   ]
  },
  {
   "cell_type": "code",
   "execution_count": 26,
   "id": "4f8d8619",
   "metadata": {},
   "outputs": [
    {
     "name": "stdout",
     "output_type": "stream",
     "text": [
      "PEAHQ: 174625\n"
     ]
    }
   ],
   "source": [
    "PEAHQ = df_ft[(df_ft['FT']==1) & (df_ft['DPTO']==63) & (df_ft['P3271']==1) ]['FEX_C18'].sum()\n",
    "print(f'PEAHQ:', int(PEAHQ))\n"
   ]
  },
  {
   "cell_type": "code",
   "execution_count": 25,
   "id": "7e0a0990",
   "metadata": {},
   "outputs": [
    {
     "name": "stdout",
     "output_type": "stream",
     "text": [
      "Hombres Desempleados en el Quindio: 17869.520960767004\n",
      "Poblacion Economicamente Activa de hombres en el quindío: 174625.87195169798\n",
      "Tasa de Desempleo en hombres del quindío: 10 %\n"
     ]
    }
   ],
   "source": [
    "HDQ = df_desocupados[(df_desocupados['DSI']==1) & (df_desocupados['DPTO']==63) & (df_desocupados['P3271']==1)]['FEX_C18'].sum()\n",
    "print(f'Hombres Desempleados en el Quindio: {HDQ}')\n",
    "PEAHQ = df_ft[(df_ft['FT']==1) & (df_ft['DPTO']==63) & (df_ft['P3271']==1) ]['FEX_C18'].sum()\n",
    "print(f'Poblacion Economicamente Activa de hombres en el quindío: {PEAHQ}')\n",
    "TDHQ = HDQ/PEAHQ\n",
    "print(f'Tasa de Desempleo en hombres del quindío:', int(TDHQ*100), '%')"
   ]
  },
  {
   "cell_type": "code",
   "execution_count": 18,
   "id": "15e5966e",
   "metadata": {},
   "outputs": [],
   "source": [
    "#RISARALDA"
   ]
  },
  {
   "cell_type": "code",
   "execution_count": 19,
   "id": "27358cbd",
   "metadata": {},
   "outputs": [
    {
     "name": "stdout",
     "output_type": "stream",
     "text": [
      "Hombres Desempleados en el Risaralda: 18000.60370715\n",
      "Poblacion Economicamente Activa de hombres en el Risaralda: 296342.328368219\n",
      "Tasa de Desempleo en hombres del Risaralda: 6.074260064793518%\n"
     ]
    }
   ],
   "source": [
    "HDR = df_desocupados[(df_desocupados['DSI']==1) & (df_desocupados['DPTO']==66) & (df_desocupados['P3271']==1)]['FEX_C18'].sum()\n",
    "print(f'Hombres Desempleados en el Risaralda: {HDR}')\n",
    "PEAHR = df_ft[(df_ft['FT']==1) & (df_ft['DPTO']==66) & (df_ft['P3271']==1) ]['FEX_C18'].sum()\n",
    "print(f'Poblacion Economicamente Activa de hombres en el Risaralda: {PEAHR}')\n",
    "TDHR = HDR/PEAHR\n",
    "print(f'Tasa de Desempleo en hombres del Risaralda: {TDHR*100}%')"
   ]
  },
  {
   "cell_type": "code",
   "execution_count": 20,
   "id": "a5e1ba84",
   "metadata": {},
   "outputs": [
    {
     "name": "stdout",
     "output_type": "stream",
     "text": [
      "Mujeres Desempleadas en el Risaralda: 21676.799766712\n",
      "Poblacion Economicamente Activa de mujeres en el Risaralda: 203157.903399127\n",
      "Tasa de Desempleo en mujeres del Risaralda: 10.669926891362644%\n"
     ]
    }
   ],
   "source": [
    "MDR = df_desocupados[(df_desocupados['DSI']==1) & (df_desocupados['DPTO']==66) & (df_desocupados['P3271']==2)]['FEX_C18'].sum()\n",
    "print(f'Mujeres Desempleadas en el Risaralda: {MDR}')\n",
    "PEAMR = df_ft[(df_ft['FT']==1) & (df_ft['DPTO']==66) & (df_ft['P3271']==2) ]['FEX_C18'].sum()\n",
    "print(f'Poblacion Economicamente Activa de mujeres en el Risaralda: {PEAMR}')\n",
    "TDMR = MDR/PEAMR\n",
    "print(f'Tasa de Desempleo en mujeres del Risaralda: {TDMR*100}%')"
   ]
  },
  {
   "cell_type": "code",
   "execution_count": 21,
   "id": "63bda656",
   "metadata": {},
   "outputs": [],
   "source": [
    "#CALDAS"
   ]
  },
  {
   "cell_type": "code",
   "execution_count": 22,
   "id": "ccf83278",
   "metadata": {},
   "outputs": [
    {
     "name": "stdout",
     "output_type": "stream",
     "text": [
      "Cantidad de Mujeres Desempleadas en el Caldas: 17214.491449226003\n",
      "Poblacion Economicamente Activa de mujeres en el Caldas: 224206.533775\n",
      "Tasa de Desempleo en hombres del Caldas: 7.677961547053494%\n"
     ]
    }
   ],
   "source": [
    "MDC = df_desocupados[(df_desocupados['DSI']==1) & (df_desocupados['DPTO']==17) & (df_desocupados['P3271']==2)]['FEX_C18'].sum()\n",
    "print(f\"Cantidad de Mujeres Desempleadas en el Caldas: {MDC}\")\n",
    "PEAHC = df_ft[(df_ft['FT']==1) & (df_ft['DPTO']==17) & (df_ft['P3271']==2) ]['FEX_C18'].sum()\n",
    "print(f'Poblacion Economicamente Activa de mujeres en el Caldas: {PEAHC}')\n",
    "TDHC = MDC/PEAHC\n",
    "print(f'Tasa de Desempleo en hombres del Caldas: {TDHC*100}%')"
   ]
  },
  {
   "cell_type": "code",
   "execution_count": 23,
   "id": "be9ba2b7",
   "metadata": {},
   "outputs": [
    {
     "name": "stdout",
     "output_type": "stream",
     "text": [
      "Cantidad de Mujeres Desempleadas en el Caldas: 18226.160047418998\n",
      "Poblacion Economicamente Activa de muejeres en el Caldas: 326447.467769983\n",
      "Tasa de Desempleo en mujeres del Caldas: 5.5831831601957065%\n"
     ]
    }
   ],
   "source": [
    "HDC =MDC = df_desocupados[(df_desocupados['DSI']==1) & (df_desocupados['DPTO']==17) & (df_desocupados['P3271']==1)]['FEX_C18'].sum()\n",
    "print(f\"Cantidad de Mujeres Desempleadas en el Caldas: {MDC}\")\n",
    "PEAHC = df_ft[(df_ft['FT']==1) & (df_ft['DPTO']==17) & (df_ft['P3271']==1) ]['FEX_C18'].sum()\n",
    "print(f'Poblacion Economicamente Activa de muejeres en el Caldas: {PEAHC}')\n",
    "TDHC = MDC/PEAHC\n",
    "print(f'Tasa de Desempleo en mujeres del Caldas: {TDHC*100}%')"
   ]
  }
 ],
 "metadata": {
  "kernelspec": {
   "display_name": "Python 3",
   "language": "python",
   "name": "python3"
  },
  "language_info": {
   "codemirror_mode": {
    "name": "ipython",
    "version": 3
   },
   "file_extension": ".py",
   "mimetype": "text/x-python",
   "name": "python",
   "nbconvert_exporter": "python",
   "pygments_lexer": "ipython3",
   "version": "3.12.1"
  }
 },
 "nbformat": 4,
 "nbformat_minor": 5
}
