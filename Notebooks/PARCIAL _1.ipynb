{
 "cells": [
  {
   "cell_type": "code",
   "execution_count": 1,
   "id": "23506a5d",
   "metadata": {},
   "outputs": [],
   "source": [
    "import pandas as pd\n",
    "import numpy as np"
   ]
  },
  {
   "cell_type": "code",
   "execution_count": 2,
   "id": "fe8386fb",
   "metadata": {},
   "outputs": [
    {
     "data": {
      "text/html": [
       "<div>\n",
       "<style scoped>\n",
       "    .dataframe tbody tr th:only-of-type {\n",
       "        vertical-align: middle;\n",
       "    }\n",
       "\n",
       "    .dataframe tbody tr th {\n",
       "        vertical-align: top;\n",
       "    }\n",
       "\n",
       "    .dataframe thead th {\n",
       "        text-align: right;\n",
       "    }\n",
       "</style>\n",
       "<table border=\"1\" class=\"dataframe\">\n",
       "  <thead>\n",
       "    <tr style=\"text-align: right;\">\n",
       "      <th></th>\n",
       "      <th>DIRECTORIO</th>\n",
       "      <th>SECUENCIA_P</th>\n",
       "      <th>SECUENCIA_ENCUESTA</th>\n",
       "      <th>COD_DEPTO</th>\n",
       "      <th>AREA</th>\n",
       "      <th>CLASE_TE</th>\n",
       "      <th>P35</th>\n",
       "      <th>P241</th>\n",
       "      <th>MES_REF</th>\n",
       "      <th>P3031</th>\n",
       "      <th>P3032_1</th>\n",
       "      <th>P3032_2</th>\n",
       "      <th>P3032_3</th>\n",
       "      <th>P3033</th>\n",
       "      <th>P3034</th>\n",
       "      <th>P3035</th>\n",
       "      <th>P3000</th>\n",
       "      <th>GRUPOS4</th>\n",
       "      <th>GRUPOS12</th>\n",
       "      <th>F_EXP</th>\n",
       "    </tr>\n",
       "  </thead>\n",
       "  <tbody>\n",
       "    <tr>\n",
       "      <th>0</th>\n",
       "      <td>7627444</td>\n",
       "      <td>1</td>\n",
       "      <td>1</td>\n",
       "      <td>44</td>\n",
       "      <td>NaN</td>\n",
       "      <td>2</td>\n",
       "      <td>2</td>\n",
       "      <td>33</td>\n",
       "      <td>ENERO</td>\n",
       "      <td>2</td>\n",
       "      <td>NaN</td>\n",
       "      <td>NaN</td>\n",
       "      <td>NaN</td>\n",
       "      <td>2</td>\n",
       "      <td>240</td>\n",
       "      <td>2</td>\n",
       "      <td>2</td>\n",
       "      <td>2</td>\n",
       "      <td>3</td>\n",
       "      <td>60.050515</td>\n",
       "    </tr>\n",
       "    <tr>\n",
       "      <th>1</th>\n",
       "      <td>7627446</td>\n",
       "      <td>1</td>\n",
       "      <td>1</td>\n",
       "      <td>44</td>\n",
       "      <td>NaN</td>\n",
       "      <td>2</td>\n",
       "      <td>1</td>\n",
       "      <td>31</td>\n",
       "      <td>ENERO</td>\n",
       "      <td>2</td>\n",
       "      <td>NaN</td>\n",
       "      <td>NaN</td>\n",
       "      <td>NaN</td>\n",
       "      <td>2</td>\n",
       "      <td>166</td>\n",
       "      <td>2</td>\n",
       "      <td>2</td>\n",
       "      <td>1</td>\n",
       "      <td>1</td>\n",
       "      <td>86.341075</td>\n",
       "    </tr>\n",
       "    <tr>\n",
       "      <th>2</th>\n",
       "      <td>7627449</td>\n",
       "      <td>1</td>\n",
       "      <td>1</td>\n",
       "      <td>68</td>\n",
       "      <td>NaN</td>\n",
       "      <td>1</td>\n",
       "      <td>2</td>\n",
       "      <td>42</td>\n",
       "      <td>ENERO</td>\n",
       "      <td>2</td>\n",
       "      <td>NaN</td>\n",
       "      <td>NaN</td>\n",
       "      <td>NaN</td>\n",
       "      <td>2</td>\n",
       "      <td>60</td>\n",
       "      <td>2</td>\n",
       "      <td>2</td>\n",
       "      <td>3</td>\n",
       "      <td>5</td>\n",
       "      <td>139.884518</td>\n",
       "    </tr>\n",
       "    <tr>\n",
       "      <th>3</th>\n",
       "      <td>7627453</td>\n",
       "      <td>1</td>\n",
       "      <td>2</td>\n",
       "      <td>68</td>\n",
       "      <td>NaN</td>\n",
       "      <td>1</td>\n",
       "      <td>2</td>\n",
       "      <td>41</td>\n",
       "      <td>ENERO</td>\n",
       "      <td>2</td>\n",
       "      <td>NaN</td>\n",
       "      <td>NaN</td>\n",
       "      <td>NaN</td>\n",
       "      <td>2</td>\n",
       "      <td>60</td>\n",
       "      <td>2</td>\n",
       "      <td>2</td>\n",
       "      <td>4</td>\n",
       "      <td>7</td>\n",
       "      <td>168.635440</td>\n",
       "    </tr>\n",
       "    <tr>\n",
       "      <th>4</th>\n",
       "      <td>7627456</td>\n",
       "      <td>1</td>\n",
       "      <td>3</td>\n",
       "      <td>68</td>\n",
       "      <td>NaN</td>\n",
       "      <td>1</td>\n",
       "      <td>1</td>\n",
       "      <td>18</td>\n",
       "      <td>ENERO</td>\n",
       "      <td>2</td>\n",
       "      <td>NaN</td>\n",
       "      <td>NaN</td>\n",
       "      <td>NaN</td>\n",
       "      <td>2</td>\n",
       "      <td>9</td>\n",
       "      <td>2</td>\n",
       "      <td>2</td>\n",
       "      <td>4</td>\n",
       "      <td>6</td>\n",
       "      <td>64.659273</td>\n",
       "    </tr>\n",
       "  </tbody>\n",
       "</table>\n",
       "</div>"
      ],
      "text/plain": [
       "   DIRECTORIO  SECUENCIA_P  SECUENCIA_ENCUESTA  COD_DEPTO  AREA  CLASE_TE  \\\n",
       "0     7627444            1                   1         44   NaN         2   \n",
       "1     7627446            1                   1         44   NaN         2   \n",
       "2     7627449            1                   1         68   NaN         1   \n",
       "3     7627453            1                   2         68   NaN         1   \n",
       "4     7627456            1                   3         68   NaN         1   \n",
       "\n",
       "   P35  P241 MES_REF  P3031  P3032_1  P3032_2  P3032_3  P3033  P3034  P3035  \\\n",
       "0    2    33   ENERO      2      NaN      NaN      NaN      2    240      2   \n",
       "1    1    31   ENERO      2      NaN      NaN      NaN      2    166      2   \n",
       "2    2    42   ENERO      2      NaN      NaN      NaN      2     60      2   \n",
       "3    2    41   ENERO      2      NaN      NaN      NaN      2     60      2   \n",
       "4    1    18   ENERO      2      NaN      NaN      NaN      2      9      2   \n",
       "\n",
       "   P3000  GRUPOS4  GRUPOS12       F_EXP  \n",
       "0      2        2         3   60.050515  \n",
       "1      2        1         1   86.341075  \n",
       "2      2        3         5  139.884518  \n",
       "3      2        4         7  168.635440  \n",
       "4      2        4         6   64.659273  "
      ]
     },
     "execution_count": 2,
     "metadata": {},
     "output_type": "execute_result"
    }
   ],
   "source": [
    "#IMPORTAR BASE DE DATOS\n",
    "df_emicron = pd.read_csv('https://github.com/niconomist98/DataAnalyticsUQ/raw/refs/heads/main/Datos/EMICRON/emicron_identificacion.csv', encoding=\"latin\", sep=',')\n",
    "df_emicron.head()"
   ]
  },
  {
   "cell_type": "markdown",
   "id": "6be80c83",
   "metadata": {},
   "source": [
    "1. ¿Cuantos micronegocios hay en el Quindio, cuyos propietarios son hombres entre los 18 y 30 años?\n"
   ]
  },
  {
   "cell_type": "code",
   "execution_count": 3,
   "id": "a3cc1b52",
   "metadata": {},
   "outputs": [
    {
     "name": "stdout",
     "output_type": "stream",
     "text": [
      "Cantidad de micronegocios en Colombia: 5297251\n"
     ]
    }
   ],
   "source": [
    "#Determinar la cantidad de micronegocios en Colombia\n",
    "total = df_emicron[\"F_EXP\"].sum()\n",
    "print(\"Cantidad de micronegocios en Colombia:\", int(total))"
   ]
  },
  {
   "cell_type": "code",
   "execution_count": 4,
   "id": "7dfea2ba",
   "metadata": {},
   "outputs": [
    {
     "data": {
      "text/plain": [
       "Index(['DIRECTORIO', 'SECUENCIA_P', 'SECUENCIA_ENCUESTA', 'COD_DEPTO', 'AREA',\n",
       "       'CLASE_TE', 'P35', 'P241', 'MES_REF', 'P3031', 'P3032_1', 'P3032_2',\n",
       "       'P3032_3', 'P3033', 'P3034', 'P3035', 'P3000', 'GRUPOS4', 'GRUPOS12',\n",
       "       'F_EXP'],\n",
       "      dtype='object')"
      ]
     },
     "execution_count": 4,
     "metadata": {},
     "output_type": "execute_result"
    }
   ],
   "source": [
    "#Buscar si estan las variables que necesitamos\n",
    "df_emicron.columns"
   ]
  },
  {
   "cell_type": "markdown",
   "id": "35d7236a",
   "metadata": {},
   "source": [
    "Para dar solución a esta pregunta, indagamos en el DANE el codigo de nuestras variables, los cuales son \"COD_DEPTO\", \"P35\" Y \"P241\" \n",
    "https://microdatos.dane.gov.co/index.php/catalog/832/data-dictionary/F1?file_name=M%C3%B3dulo%20de%20identificaci%C3%B3n"
   ]
  },
  {
   "cell_type": "code",
   "execution_count": 5,
   "id": "29b731ed",
   "metadata": {},
   "outputs": [
    {
     "name": "stdout",
     "output_type": "stream",
     "text": [
      "El total de micronegocios en el departamento del Quindío de hombres entre 18 y 30 años es: 1929\n"
     ]
    }
   ],
   "source": [
    "#Filtramos los datos a usar\n",
    "micronegocios_HQ = df_emicron[(df_emicron[\"COD_DEPTO\"] == 63) & (df_emicron[\"P35\"] == 1) & (df_emicron[\"P241\"].between(18, 30))]\n",
    "\n",
    "# Calcular el total de micronegocios en el Quindío con propietarios hombres de 18 a 30 años\n",
    "total_quindio_hombres_18_30 = micronegocios_HQ[\"F_EXP\"].sum()\n",
    "\n",
    "print(\"El total de micronegocios en el departamento del Quindío de hombres entre 18 y 30 años es:\", round(total_quindio_hombres_18_30))"
   ]
  },
  {
   "cell_type": "markdown",
   "id": "a3e5359f",
   "metadata": {},
   "source": [
    "2. ¿Cuantos micronegocios de la industria manufacturera existen en el departamento de risaralda, cuyas propietarias son mujeres entre los 20 y los 30 años?"
   ]
  },
  {
   "cell_type": "markdown",
   "id": "74486e32",
   "metadata": {},
   "source": [
    "Aquí tenemos que agregar la variable de industria manufacturera \"GRUPOS4\" el cual nos permite conocer el sector de la empresa y en \"GRUPOS4 = 2\" sabemos que es industria manufacturera"
   ]
  },
  {
   "cell_type": "code",
   "execution_count": 6,
   "id": "15c7d20d",
   "metadata": {},
   "outputs": [
    {
     "name": "stdout",
     "output_type": "stream",
     "text": [
      "El total de micronegocios de la industria manufacturera en el departamento de Risaralda, cuyas propietarias son mujeres entre los 20 y los 30 años es: 471\n"
     ]
    }
   ],
   "source": [
    "#Usamos el mismo codigo que en la pregunta anterior, pero cambiando el departamento, el género, la edad y agregando la industria manufacturera\n",
    "micronegocios_Manufacturera_RM = df_emicron[(df_emicron[\"COD_DEPTO\"] == 66) & (df_emicron[\"P35\"] == 2) & (df_emicron[\"P241\"].between(20, 30)) & (df_emicron[\"GRUPOS4\"] == 2)]\n",
    "\n",
    "#Calcular micronegocios expandidos\n",
    "total_micronegocios_Manufacturera_RM = micronegocios_Manufacturera_RM[\"F_EXP\"].sum()\n",
    "print(f\"El total de micronegocios de la industria manufacturera en el departamento de Risaralda, cuyas propietarias son mujeres entre los 20 y los 30 años es: {micronegocios_Manufacturera_RM['F_EXP'].sum():.0f}\")"
   ]
  },
  {
   "cell_type": "markdown",
   "id": "2cd296a9",
   "metadata": {},
   "source": [
    "3. Entre las ciudades de pereira, armenia y manizales, cual de las 3 ciudades tiene mas micronegocios del sector comercio, cuyas propietarias, son mujeres mayores a 40 años?\n"
   ]
  },
  {
   "cell_type": "markdown",
   "id": "fad6b39e",
   "metadata": {},
   "source": [
    "Para resolver este punto podemos usar los codigos de la pregunta anterior, agregando \"AREA\" Y cambiando \"GRUPOS4 =2\" por \"GRUPOS4 = 3\" el cual determina el sector comercio"
   ]
  },
  {
   "cell_type": "code",
   "execution_count": 11,
   "id": "74dc03c9",
   "metadata": {},
   "outputs": [
    {
     "name": "stdout",
     "output_type": "stream",
     "text": [
      "El total de micronegocios del sector comercio en la ciudad de Armenia, cuyas propietarias son mujeres mayores a 40 años es: 2558\n",
      "El total de micronegocios del sector comercio en la ciudad de Pereira, cuyas propietarias son mujeres mayores a 40 años es: 3827\n",
      "El total de micronegocios del sector comercio en la ciudad de Manizales, cuyas propietarias son mujeres mayores a 40 años es: 2637\n"
     ]
    }
   ],
   "source": [
    "#ARMENIA \n",
    "micronegocios_comercio_A40 = df_emicron[(df_emicron[\"AREA\"] == 63) & (df_emicron[\"P35\"] == 2) & (df_emicron[\"P241\"] > 40) & (df_emicron[\"GRUPOS4\"] == 3)]\n",
    "total_micronegocios_comercio_A40 = micronegocios_comercio_A40[\"F_EXP\"].sum()\n",
    "print(f\"El total de micronegocios del sector comercio en la ciudad de Armenia, cuyas propietarias son mujeres mayores a 40 años es: {micronegocios_comercio_A40['F_EXP'].sum():.0f}\")\n",
    "\n",
    "#PEREIRA\n",
    "micronegocios_comercio_P40 = df_emicron[(df_emicron[\"AREA\"] == 66) & (df_emicron[\"P35\"] == 2) & (df_emicron[\"P241\"] > 40) & (df_emicron[\"GRUPOS4\"] == 3)]\n",
    "total_micronegocios_comercio_P40 = micronegocios_comercio_P40[\"F_EXP\"].sum()\n",
    "print(f\"El total de micronegocios del sector comercio en la ciudad de Pereira, cuyas propietarias son mujeres mayores a 40 años es: {micronegocios_comercio_P40['F_EXP'].sum():.0f}\")\n",
    "\n",
    "#MANIZALES\n",
    "micronegocios_comercio_M40 = df_emicron[(df_emicron[\"AREA\"] == 17) & (df_emicron[\"P35\"] == 2) & (df_emicron[\"P241\"] > 40) & (df_emicron[\"GRUPOS4\"] == 3)]\n",
    "total_micronegocios_comercio_M40 = micronegocios_comercio_M40[\"F_EXP\"].sum()\n",
    "print(f\"El total de micronegocios del sector comercio en la ciudad de Manizales, cuyas propietarias son mujeres mayores a 40 años es: {micronegocios_comercio_M40['F_EXP'].sum():.0f}\")"
   ]
  },
  {
   "cell_type": "markdown",
   "id": "85848aa5",
   "metadata": {},
   "source": [
    "Teniendo en cuenta los resultados obtenidos, la ciudad que cuenta con mas micronegocios cuyas propietarias son mujeres de mas de 40 años de edad es la ciudad de Pereira"
   ]
  },
  {
   "cell_type": "markdown",
   "id": "cd1a4321",
   "metadata": {},
   "source": [
    "4. En la ciudad de Armenia ¿Cuantos micronegocios hay, cuyos propietarios son hombres que no tienen nombre comercial?"
   ]
  },
  {
   "cell_type": "markdown",
   "id": "cb8f29e9",
   "metadata": {},
   "source": [
    "Podemos basarnos en el codigo de la pregunta anterior, solo que agregamos la variable de nombre comercial que en el DANE aparece como: \"P3035\""
   ]
  },
  {
   "cell_type": "code",
   "execution_count": 12,
   "id": "93dc013c",
   "metadata": {},
   "outputs": [
    {
     "name": "stdout",
     "output_type": "stream",
     "text": [
      "El total de micronegocios en la ciudad de Armenia, cuyos propietarios son hombres que no tienen nombre comercial es: 11603\n"
     ]
    }
   ],
   "source": [
    "micronegocios_AXM_snc = df_emicron[(df_emicron[\"AREA\"] == 63) & (df_emicron[\"P35\"] == 1) & (df_emicron[\"P3035\"] == 2)]\n",
    "total_micronegocios_AXM_snc = micronegocios_AXM_snc[\"F_EXP\"].sum()\n",
    "print(f\"El total de micronegocios en la ciudad de Armenia, cuyos propietarios son hombres que no tienen nombre comercial es: {micronegocios_AXM_snc['F_EXP'].sum():.0f}\")"
   ]
  }
 ],
 "metadata": {
  "kernelspec": {
   "display_name": "Python 3",
   "language": "python",
   "name": "python3"
  },
  "language_info": {
   "codemirror_mode": {
    "name": "ipython",
    "version": 3
   },
   "file_extension": ".py",
   "mimetype": "text/x-python",
   "name": "python",
   "nbconvert_exporter": "python",
   "pygments_lexer": "ipython3",
   "version": "3.12.1"
  }
 },
 "nbformat": 4,
 "nbformat_minor": 5
}
