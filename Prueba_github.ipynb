{
  "nbformat": 4,
  "nbformat_minor": 0,
  "metadata": {
    "colab": {
      "provenance": [],
      "include_colab_link": true
    },
    "kernelspec": {
      "name": "python3",
      "display_name": "Python 3"
    },
    "language_info": {
      "name": "python"
    }
  },
  "cells": [
    {
      "cell_type": "markdown",
      "metadata": {
        "id": "view-in-github",
        "colab_type": "text"
      },
      "source": [
        "<a href=\"https://colab.research.google.com/github/smontoya11/DatanalyticsUQ/blob/main/Prueba_github.ipynb\" target=\"_parent\"><img src=\"https://colab.research.google.com/assets/colab-badge.svg\" alt=\"Open In Colab\"/></a>"
      ]
    },
    {
      "cell_type": "code",
      "execution_count": null,
      "metadata": {
        "colab": {
          "base_uri": "https://localhost:8080/"
        },
        "id": "hpSQhS7p8fkc",
        "outputId": "5253d194-0776-4abd-9d40-1ab81178f1f0"
      },
      "outputs": [
        {
          "output_type": "stream",
          "name": "stdout",
          "text": [
            "3\n"
          ]
        }
      ],
      "source": [
        "#Primer codigo\n",
        "x = 1\n",
        "y = x + 2\n",
        "print (y)"
      ]
    },
    {
      "cell_type": "code",
      "source": [
        "Lista =[1, 2, 3, 4, 5, 6, 7, 8]\n",
        "print(Lista)"
      ],
      "metadata": {
        "colab": {
          "base_uri": "https://localhost:8080/"
        },
        "id": "SVP41wviCS2n",
        "outputId": "d17f7100-35b0-4864-b70f-b120df6a82cd"
      },
      "execution_count": 1,
      "outputs": [
        {
          "output_type": "stream",
          "name": "stdout",
          "text": [
            "[1, 2, 3, 4, 5, 6, 7, 8]\n"
          ]
        }
      ]
    },
    {
      "cell_type": "code",
      "source": [
        "#Ejemplo diccionario\n",
        "mi_diccionario = {'123456': 'Santiago Montoya' ,\n",
        "                  '82745972' : 'Samuel Rodriguez' ,\n",
        "                  '723984' : 'Vanesso Tarapasco'}\n",
        "Otro_diccionario = {1 : [1,2,3,4,5] ,\n",
        "                    2 : [5,6,7,8,9] ,\n",
        "                    3 : {1:2,2:3}}"
      ],
      "metadata": {
        "id": "cUSWKlhcEVAm"
      },
      "execution_count": 5,
      "outputs": []
    },
    {
      "cell_type": "code",
      "source": [
        "diccionario_completo = { 1 : [1,2,3,4,5,[5,6,7,8,9,[6,7,8]]],\n",
        "                        2 : [5,6,7,8,9],\n",
        "                         3 : {1:2,2:3,6:[9,10,'extraer este valor']}\n",
        "                         }"
      ],
      "metadata": {
        "id": "t1u7wSlFHr14"
      },
      "execution_count": 33,
      "outputs": []
    },
    {
      "cell_type": "code",
      "metadata": {
        "colab": {
          "base_uri": "https://localhost:8080/"
        },
        "id": "c94c0577",
        "outputId": "7b3b32ae-9725-4bd3-ac03-590297a873fb"
      },
      "source": [
        "#Para mostrar el 8\n",
        "diccionario_completo[1][5][5][2]"
      ],
      "execution_count": 38,
      "outputs": [
        {
          "output_type": "execute_result",
          "data": {
            "text/plain": [
              "8"
            ]
          },
          "metadata": {},
          "execution_count": 38
        }
      ]
    },
    {
      "cell_type": "code",
      "source": [
        "#para extraer el texto\n",
        "diccionario_completo[3][6][2]"
      ],
      "metadata": {
        "colab": {
          "base_uri": "https://localhost:8080/",
          "height": 35
        },
        "id": "m-lx02ngI3kk",
        "outputId": "4e18c4d2-c84e-4afb-cdeb-537c5149efe7"
      },
      "execution_count": 39,
      "outputs": [
        {
          "output_type": "execute_result",
          "data": {
            "text/plain": [
              "'extraer este valor'"
            ],
            "application/vnd.google.colaboratory.intrinsic+json": {
              "type": "string"
            }
          },
          "metadata": {},
          "execution_count": 39
        }
      ]
    },
    {
      "cell_type": "markdown",
      "source": [
        "# **Condicionales**"
      ],
      "metadata": {
        "id": "yeQzv7sEJdT1"
      }
    },
    {
      "cell_type": "code",
      "source": [
        "#condicional if\n",
        "edad = 20\n",
        "\n",
        "if edad >= 18:\n",
        "  print('Es mayor de edad')"
      ],
      "metadata": {
        "colab": {
          "base_uri": "https://localhost:8080/"
        },
        "id": "7k-fEeb4Jjbw",
        "outputId": "47e712c9-cc0f-4667-9e0f-517020c80b90"
      },
      "execution_count": 40,
      "outputs": [
        {
          "output_type": "stream",
          "name": "stdout",
          "text": [
            "Es mayor de edad\n"
          ]
        }
      ]
    },
    {
      "cell_type": "code",
      "source": [
        "#Condicional if-else\n",
        "edad = 15\n",
        "\n",
        "if edad >= 18:\n",
        "  print('Es mayor de edad')\n",
        "else:\n",
        "  print('Es menor de edad')"
      ],
      "metadata": {
        "colab": {
          "base_uri": "https://localhost:8080/"
        },
        "id": "Cic5X7QdKDuo",
        "outputId": "f4e7febf-1a7b-4c8b-8f9e-da8faed65c21"
      },
      "execution_count": 42,
      "outputs": [
        {
          "output_type": "stream",
          "name": "stdout",
          "text": [
            "Es menor de edad\n"
          ]
        }
      ]
    },
    {
      "cell_type": "code",
      "source": [
        "#Condicional if-elif-else\n",
        "nota = 85\n",
        "\n",
        "if nota >= 90:\n",
        "  print('Excelente')\n",
        "elif nota >= 80:\n",
        "  print('Muy bien')\n",
        "elif nota >= 70:\n",
        "  print('Bien')\n",
        "elif nota >= 60:\n",
        "  print('Bruto HP')"
      ],
      "metadata": {
        "colab": {
          "base_uri": "https://localhost:8080/"
        },
        "id": "a11d8EO3KHxu",
        "outputId": "10a5fe86-dcac-4ba4-99fb-e56e727717cd"
      },
      "execution_count": 41,
      "outputs": [
        {
          "output_type": "stream",
          "name": "stdout",
          "text": [
            "Muy bien\n"
          ]
        }
      ]
    },
    {
      "cell_type": "code",
      "source": [
        "#Ejercicio\n",
        "# Crear un diccionario con nombres y calificaciones\n",
        "estudiantes = {\n",
        "    \"Juan\": 3.5,\n",
        "    \"María\": 2.8,\n",
        "    \"Carlos\": 1.9,\n",
        "    \"Luisa\": 3.0,\n",
        "    \"Ana\": 2.3\n",
        "}\n",
        "\n",
        "# Recorrer el diccionario y aplicar las condiciones\n",
        "for nombre, nota in estudiantes.items():\n",
        "    print(f\"Estudiante: {nombre} - Nota: {nota}\")\n",
        "\n",
        "    if nota >= 3.0:\n",
        "        print(\"Resultado: Ganó la materia \\n\")\n",
        "    elif nota >= 2.0:\n",
        "        print(\"Resultado: Perdió, pero puede habilitar \\n\")\n",
        "    else:\n",
        "        print(\"Resultado: Perdió sin derecho a habilitar \\n\")\n"
      ],
      "metadata": {
        "colab": {
          "base_uri": "https://localhost:8080/"
        },
        "id": "JaNMYiC2MFcb",
        "outputId": "0c49d228-3c2f-4dc1-88bf-f7051915debc"
      },
      "execution_count": 47,
      "outputs": [
        {
          "output_type": "stream",
          "name": "stdout",
          "text": [
            "Estudiante: Juan - Nota: 3.5\n",
            "Resultado: Ganó la materia \n",
            "\n",
            "Estudiante: María - Nota: 2.8\n",
            "Resultado: Perdió, pero puede habilitar \n",
            "\n",
            "Estudiante: Carlos - Nota: 1.9\n",
            "Resultado: Perdió sin derecho a habilitar \n",
            "\n",
            "Estudiante: Luisa - Nota: 3.0\n",
            "Resultado: Ganó la materia \n",
            "\n",
            "Estudiante: Ana - Nota: 2.3\n",
            "Resultado: Perdió, pero puede habilitar \n",
            "\n"
          ]
        }
      ]
    }
  ]
}